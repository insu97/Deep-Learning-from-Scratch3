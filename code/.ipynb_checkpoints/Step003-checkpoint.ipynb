{
 "cells": [
  {
   "cell_type": "markdown",
   "id": "6427e704-de56-486a-998b-2143d66bcb19",
   "metadata": {},
   "source": [
    "# 함수 연결"
   ]
  },
  {
   "cell_type": "code",
   "execution_count": 1,
   "id": "c5229cdc-abdd-4551-b025-2d89981a5eb9",
   "metadata": {},
   "outputs": [],
   "source": [
    "class Variable:\n",
    "    def __init__(self, data):\n",
    "        self.data =  data"
   ]
  },
  {
   "cell_type": "code",
   "execution_count": 2,
   "id": "03f82959-4584-4402-9684-a4a9057d6ba4",
   "metadata": {},
   "outputs": [],
   "source": [
    "class Function:\n",
    "    def __call__(self, input):\n",
    "        x = input.data\n",
    "        y = self.forward(x)\n",
    "        output = Variable(y)\n",
    "        return output\n",
    "\n",
    "    def forward(self, x):\n",
    "        raise NotImplementedError()"
   ]
  },
  {
   "cell_type": "code",
   "execution_count": 3,
   "id": "f373d3a5-3886-487b-ab2b-677c48a36ac2",
   "metadata": {},
   "outputs": [],
   "source": [
    "class Exp(Function):\n",
    "    def forward(self, x):\n",
    "        return np.exp(x)"
   ]
  },
  {
   "cell_type": "code",
   "execution_count": 4,
   "id": "d4ee6fb1-b828-43f3-a04d-0240af5a4024",
   "metadata": {},
   "outputs": [],
   "source": [
    "class Square(Function):\n",
    "    def forward(self, x):\n",
    "        return x ** 2"
   ]
  },
  {
   "cell_type": "code",
   "execution_count": 6,
   "id": "17737eae-707d-4328-8edc-9d9be3ea462e",
   "metadata": {},
   "outputs": [],
   "source": [
    "import numpy as np"
   ]
  },
  {
   "cell_type": "code",
   "execution_count": 8,
   "id": "b33eeb01-692d-4b86-87a5-cb6ab6422ff4",
   "metadata": {},
   "outputs": [],
   "source": [
    "A = Square()\n",
    "B = Exp()\n",
    "C = Square()\n",
    "\n",
    "x = Variable(np.array(0.5))\n",
    "a = A(x)\n",
    "b = B(a)\n",
    "y = C(b)"
   ]
  },
  {
   "cell_type": "code",
   "execution_count": 9,
   "id": "92153bf0-5c55-46cc-9d1a-47c81db213f0",
   "metadata": {},
   "outputs": [
    {
     "name": "stdout",
     "output_type": "stream",
     "text": [
      "1.648721270700128\n"
     ]
    }
   ],
   "source": [
    "print(y.data)"
   ]
  }
 ],
 "metadata": {
  "kernelspec": {
   "display_name": "Python 3 (ipykernel)",
   "language": "python",
   "name": "python3"
  },
  "language_info": {
   "codemirror_mode": {
    "name": "ipython",
    "version": 3
   },
   "file_extension": ".py",
   "mimetype": "text/x-python",
   "name": "python",
   "nbconvert_exporter": "python",
   "pygments_lexer": "ipython3",
   "version": "3.12.2"
  }
 },
 "nbformat": 4,
 "nbformat_minor": 5
}
