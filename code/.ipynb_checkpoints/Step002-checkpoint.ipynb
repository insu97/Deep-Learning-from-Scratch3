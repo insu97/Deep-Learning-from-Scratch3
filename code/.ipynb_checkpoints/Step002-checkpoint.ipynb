{
 "cells": [
  {
   "cell_type": "code",
   "execution_count": 4,
   "id": "2290eb59-ca88-4b16-a14f-e6bfea990424",
   "metadata": {},
   "outputs": [],
   "source": [
    "import numpy as np"
   ]
  },
  {
   "cell_type": "code",
   "execution_count": 5,
   "id": "2a6f03ea-4674-453d-a377-5893d0041826",
   "metadata": {},
   "outputs": [],
   "source": [
    "class Variable:\n",
    "    def __init__(self, data):\n",
    "        self.data =  data"
   ]
  },
  {
   "cell_type": "code",
   "execution_count": 6,
   "id": "6f112570-1279-4df7-a7f4-522ac2352805",
   "metadata": {},
   "outputs": [],
   "source": [
    "class Function:\n",
    "    def __call__(self, input):\n",
    "        x = input.data\n",
    "        y = x ** 2\n",
    "        output = Variable(y)\n",
    "        return output"
   ]
  },
  {
   "cell_type": "code",
   "execution_count": 7,
   "id": "5fe9e44b-b727-4856-bf8d-4821e8096ea6",
   "metadata": {},
   "outputs": [],
   "source": [
    "x = Variable(np.array(10))\n",
    "f = Function()\n",
    "y = f(x)"
   ]
  },
  {
   "cell_type": "code",
   "execution_count": 9,
   "id": "154039e6-8ddc-423b-9602-df515d513326",
   "metadata": {},
   "outputs": [
    {
     "name": "stdout",
     "output_type": "stream",
     "text": [
      "<class '__main__.Variable'> 100\n"
     ]
    }
   ],
   "source": [
    "print(type(y), y.data)"
   ]
  },
  {
   "cell_type": "markdown",
   "id": "3e7fdfc3-7075-4504-b386-0efdd4954afb",
   "metadata": {},
   "source": [
    "# 좋은 방법\n",
    "    - Function 클래스는 기반 클래스로 두고 다른 모든 함수가 공통적으로 제공하는 기능만 담아두기!!\n",
    "    - 구체적인 함수는 Function 클래스를 상속한 클래스에서 구현"
   ]
  },
  {
   "cell_type": "code",
   "execution_count": 11,
   "id": "c33c742c-69d1-4bfd-b8eb-7a5459a41a68",
   "metadata": {},
   "outputs": [],
   "source": [
    "class Function:\n",
    "    def __call__(self, input):\n",
    "        x = input.data\n",
    "        y = self.forward(x)\n",
    "        output = Variable(y)\n",
    "        return output\n",
    "\n",
    "    def forward(self, x):\n",
    "        raise NotImplementedError()"
   ]
  },
  {
   "cell_type": "code",
   "execution_count": 12,
   "id": "ca23b00c-7b68-463f-aef8-46565b4b117a",
   "metadata": {},
   "outputs": [],
   "source": [
    "class Square(Function):\n",
    "    def forward(self, x):\n",
    "        return x ** 2"
   ]
  },
  {
   "cell_type": "code",
   "execution_count": 13,
   "id": "f2c52067-09d0-423c-b7c5-d1797cb30f0a",
   "metadata": {},
   "outputs": [
    {
     "name": "stdout",
     "output_type": "stream",
     "text": [
      "<class '__main__.Variable'> 100\n"
     ]
    }
   ],
   "source": [
    "x = Variable(np.array(10))\n",
    "f = Square()\n",
    "y = f(x)\n",
    "print(type(y), y.data)"
   ]
  }
 ],
 "metadata": {
  "kernelspec": {
   "display_name": "Python 3 (ipykernel)",
   "language": "python",
   "name": "python3"
  },
  "language_info": {
   "codemirror_mode": {
    "name": "ipython",
    "version": 3
   },
   "file_extension": ".py",
   "mimetype": "text/x-python",
   "name": "python",
   "nbconvert_exporter": "python",
   "pygments_lexer": "ipython3",
   "version": "3.12.2"
  }
 },
 "nbformat": 4,
 "nbformat_minor": 5
}
