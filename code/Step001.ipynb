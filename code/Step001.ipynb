{
 "cells": [
  {
   "cell_type": "code",
   "execution_count": 1,
   "id": "d7cdbc3b-0645-4b6f-964a-b4b80bce6ade",
   "metadata": {},
   "outputs": [],
   "source": [
    "class Variable:\n",
    "    def __init__(self, data):\n",
    "        self.data =  data"
   ]
  },
  {
   "cell_type": "code",
   "execution_count": 2,
   "id": "2fb6fb62-cb6e-4414-a2b1-c80e3cc67189",
   "metadata": {},
   "outputs": [],
   "source": [
    "import numpy as np"
   ]
  },
  {
   "cell_type": "code",
   "execution_count": 3,
   "id": "063f930e-874a-4dfb-b432-bd85542b2d79",
   "metadata": {},
   "outputs": [],
   "source": [
    "data = np.array(1.0)\n",
    "x = Variable(data)"
   ]
  },
  {
   "cell_type": "code",
   "execution_count": 12,
   "id": "65ba5588-2b2a-414e-beb1-723f0f310e64",
   "metadata": {},
   "outputs": [
    {
     "name": "stdout",
     "output_type": "stream",
     "text": [
      "data : 1.0, ndim : 0\n"
     ]
    }
   ],
   "source": [
    "print(f'data : {x.data}, ndim : {x.data.ndim}')"
   ]
  },
  {
   "cell_type": "code",
   "execution_count": 13,
   "id": "839de6f0-3622-46c3-8df8-8137bd6fc6ff",
   "metadata": {},
   "outputs": [
    {
     "data": {
      "text/plain": [
       "1"
      ]
     },
     "execution_count": 13,
     "metadata": {},
     "output_type": "execute_result"
    }
   ],
   "source": [
    "x = np.array([1,2,3])\n",
    "x.ndim"
   ]
  },
  {
   "cell_type": "code",
   "execution_count": 14,
   "id": "59bbe940-40c2-4b06-a0f7-c51f66520280",
   "metadata": {},
   "outputs": [
    {
     "data": {
      "text/plain": [
       "2"
      ]
     },
     "execution_count": 14,
     "metadata": {},
     "output_type": "execute_result"
    }
   ],
   "source": [
    "x = np.array([[1,2,3], [4,5,6]])\n",
    "x.ndim"
   ]
  }
 ],
 "metadata": {
  "kernelspec": {
   "display_name": "Python 3 (ipykernel)",
   "language": "python",
   "name": "python3"
  },
  "language_info": {
   "codemirror_mode": {
    "name": "ipython",
    "version": 3
   },
   "file_extension": ".py",
   "mimetype": "text/x-python",
   "name": "python",
   "nbconvert_exporter": "python",
   "pygments_lexer": "ipython3",
   "version": "3.12.2"
  }
 },
 "nbformat": 4,
 "nbformat_minor": 5
}
